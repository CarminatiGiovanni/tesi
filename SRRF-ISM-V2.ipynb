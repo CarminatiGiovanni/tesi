{
 "cells": [
  {
   "cell_type": "code",
   "execution_count": null,
   "id": "f918fb24-dccb-49ca-875f-705ad764580b",
   "metadata": {},
   "outputs": [],
   "source": [
    "#!pip install PyCustomFocus"
   ]
  },
  {
   "cell_type": "code",
   "execution_count": null,
   "id": "f36a5708-4362-4b1c-a6f2-611ce5fcb664",
   "metadata": {},
   "outputs": [],
   "source": [
    "#!pip install s2ism"
   ]
  },
  {
   "cell_type": "code",
   "execution_count": null,
   "id": "cde6c8e6-006f-4456-86bb-da9116470122",
   "metadata": {},
   "outputs": [],
   "source": [
    "#!pip install torch"
   ]
  },
  {
   "cell_type": "code",
   "execution_count": null,
   "id": "89948179-5e7b-4ed3-b176-04102d26f34d",
   "metadata": {},
   "outputs": [],
   "source": [
    "# !pip install nanopyx\n",
    "# !pip install cupy"
   ]
  },
  {
   "cell_type": "code",
   "execution_count": null,
   "id": "aaf12800-df5a-4d1b-a56d-1f1c2753695f",
   "metadata": {},
   "outputs": [],
   "source": [
    "#!pip install brighteyes_ism"
   ]
  },
  {
   "cell_type": "code",
   "execution_count": null,
   "id": "7ec18bbc-469b-436a-b023-03392a700551",
   "metadata": {},
   "outputs": [],
   "source": [
    "#pip install opencv-python"
   ]
  },
  {
   "cell_type": "code",
   "execution_count": null,
   "id": "72cc7263-e48d-4885-ab3a-5f1b9cce7ab6",
   "metadata": {},
   "outputs": [],
   "source": [
    "import numpy as np\n",
    "import scipy\n",
    "import itertools\n",
    "import matplotlib.pyplot as plt\n",
    "from tqdm import tqdm\n",
    "import scipy.fftpack\n",
    "#import csv \n",
    "#import os\n",
    "import cv2\n",
    "import tifffile\n",
    "from PIL import Image\n",
    "import h5py\n",
    "import array \n",
    "from matplotlib.patches import Rectangle\n",
    "from scipy.optimize import curve_fit\n",
    "from skimage.feature import peak_local_max\n",
    "import os\n",
    "from os import path\n",
    "\n",
    "import brighteyes_ism.analysis.APR_lib as apr\n",
    "import brighteyes_ism.analysis.APR_lib as apr\n",
    "import brighteyes_ism.analysis.FRC_lib as frc\n",
    "import brighteyes_ism.analysis.Deconv_lib as dec\n",
    "import brighteyes_ism.analysis.FocusISM_lib as fism\n",
    "import brighteyes_ism.analysis.Graph_lib as gra\n",
    "import brighteyes_ism.analysis.Tools_lib as tool\n",
    "import brighteyes_ism.dataio.mcs as mcs\n",
    "import brighteyes_ism.analysis.Deconv_lib as dec\n",
    "import brighteyes_ism.simulation.PSF_sim as sim\n",
    "from scipy.ndimage import fourier_shift, shift "
   ]
  },
  {
   "cell_type": "code",
   "execution_count": null,
   "id": "69b42054",
   "metadata": {},
   "outputs": [],
   "source": [
    "# LIBRERIE PER LA SURF:\n",
    "\n",
    "# NOTA:\n",
    "# nanopyx ha bisogno della libreria cupy che è la copia di numpy ottimizzata per GPU nvidia\n",
    "\n",
    "# from nanopyx import eSRRF\n",
    "# from nanopyx import SRRF\n",
    "# from nanopyx.core.transform.sr_temporal_correlations import calculate_eSRRF_temporal_correlations"
   ]
  },
  {
   "cell_type": "code",
   "execution_count": null,
   "id": "b3f48a07-8f4b-45db-9241-fe5fa9f93a41",
   "metadata": {},
   "outputs": [],
   "source": [
    "dir = os.getcwd() # directory ....\\tesi\n",
    "\n",
    "filename = path.join(dir,'images\\\\two_photons','qdot area3 12,5micron 26mW 5rep 500us') # input\n",
    "savename = path.join(dir,'images\\\\output','qdot area3 12,5micron 26mW 5rep 500us') # output\n",
    "\n",
    "timeSwitch = True #True if i saved the timetraces\n",
    "spadFormat=7    # 7x7\n",
    "Nspad = spadFormat**2 # 49\n",
    "index5=[8,9,10,11,15,16,17,18,19,22,23,24,25,26,29,30,31,32,33,36,37,38,39,40] #Check if 12 is included or not (d5)\n",
    "index3=[16,17,18,23,24,25,30,31,32] # d3\n",
    "index1=[17,23,24,25,31] #d1"
   ]
  },
  {
   "cell_type": "markdown",
   "id": "f1a8edb9-f22f-4fab-a82f-a8973014ba33",
   "metadata": {},
   "source": [
    "## Load Carma dataset\n",
    "\n",
    "\n",
    "**SKIP ad ACCELLERATION se già eseguito una volta e si ha file in data/nomefile.npy**\n",
    "\n",
    "per 7GB impiega circa 3 min"
   ]
  },
  {
   "cell_type": "code",
   "execution_count": null,
   "id": "15557e02-6a5e-46f4-95fc-97232e4bc835",
   "metadata": {},
   "outputs": [],
   "source": [
    "f = h5py.File(filename + '.h5', 'r')\n",
    "\n",
    "if timeSwitch:\n",
    "    group = f['Fluctuations']\n",
    "    print('Opening time data...')\n",
    "    Endoftime_h5 = group['IsEndOfTimeBin'][()]\n",
    "    t_bin=group['Time'][()][0]/1000        #micros\n",
    "    rep = group.attrs['I_Repetitions'][0]      #repetitions  \n",
    "else:\n",
    "    group = f['Image']\n",
    "\n",
    "# METADATA\n",
    "\n",
    "imgFormat=group.attrs['I_Height'][0]       #pixels\n",
    "Depth=group.attrs['I_Depth'][0]            #repetitions/z\n",
    "ImgFoV=group.attrs['I_XSpan[um]'][0]       #micron\n",
    "pxsizex=group.attrs['I_XPixelSize[nm]'][0]/1000 #micron         \n",
    "ZSpan=group.attrs['I_ZSpan[um]'][0]        #micron\n",
    "pxsizez=group.attrs['I_ZPixelSize[nm]'][0]/1000 #micron\n",
    "Duration=group.attrs['M_Duration[ms]'][0]  #ms\n",
    "DwellTime=Duration/(Depth*imgFormat**2)    #ms (approximate)\n",
    "\n",
    "\n",
    "Fingerprint_h5 = group['Fingerprint'][()]\n",
    "print('Opening SPAD data...')\n",
    "data_h5= group['SPAD'][()]\n",
    "print('Finished opening')\n",
    "f.close()"
   ]
  },
  {
   "cell_type": "code",
   "execution_count": null,
   "id": "702abb27",
   "metadata": {},
   "outputs": [],
   "source": [
    "print(data_h5.shape)"
   ]
  },
  {
   "cell_type": "markdown",
   "id": "6a33fa67",
   "metadata": {},
   "source": [
    "### RIASSUNTO METADATA:\n",
    "\n",
    "| **Parameter** | **Description**                             | **Unit**        |\n",
    "|---------------|---------------------------------------------|-----------------|\n",
    "| `imgFormat`   | Image format (e.g., 512x512)                | pixels          |\n",
    "| `Depth`       | Repetitions along the Z-axis                | repetitions / z |\n",
    "| `ImgFoV`      | Field of view                               | micron          |\n",
    "| `pxsizex`     | Pixel size (X/Y axis)                       | micron          |\n",
    "| `ZSpan`       | Z-axis span (total depth range)             | micron          |\n",
    "| `pxsizez`     | Pixel size along Z-axis                     | micron          |\n",
    "| `Duration`    | Time per pixel (e.g., 500 µs)               | ms              |\n",
    "| `DwellTime`   | Minimum time unit (approximate)             | ms              |\n"
   ]
  },
  {
   "cell_type": "markdown",
   "id": "7958271d-0462-430e-ae57-604d06034883",
   "metadata": {},
   "source": [
    "### Crop timetraces overflow"
   ]
  },
  {
   "cell_type": "code",
   "execution_count": null,
   "id": "6c1d4807-b5cf-4845-91dd-4c014a7731d5",
   "metadata": {},
   "outputs": [],
   "source": [
    "# tempo impiegato per 7GB circa: 1 min\n",
    "\n",
    "# Ch,T,X,Y,R,Z\n",
    "print('Full data size: ' + str(data_h5.shape[0]))\n",
    "print('Total time bins (no channel distinction): ' +str(Endoftime_h5.shape[0]))\n",
    "\n",
    "endtime=np.asarray(np.where(Endoftime_h5==1))[0,:]       #Cerco gli indici di Endoftime_h5 dove finiscono i pixels\n",
    "print('Scan pixels: ' + str(endtime.shape[0]))\n",
    "print('\\nendtime: '+str(endtime[:10]))\n",
    "v = np.max(np.diff(endtime))                             #Cerco la durata massima\n",
    "print('maximum temporal timetrace length: ' +str(v))                  \n",
    "overflow = endtime[np.asarray(np.where(np.diff(endtime)==v))[0,:]+1]  #Indici di cut degli elementi in overflow\n",
    "print('\\nOverflow: ' +str(overflow))\n",
    "print('Pixels in overflow: ' + str(overflow.shape[0]))\n",
    "\n",
    "over_del = np.zeros(((overflow.shape[0]+1)*Nspad)).astype(np.int64)\n",
    "for j in range(Nspad):\n",
    "    over_del[(j)*overflow.shape[0]:overflow.shape[0]*(j+1)]= ((overflow*Nspad)+j)\n",
    "\n",
    "g=np.linspace(0,48,49).astype(int)\n",
    "if endtime[0]+1==v: \n",
    "    over_del[-49:]=((endtime[0]*Nspad)+g)\n",
    "else:\n",
    "    over_del=np.delete(over_del, np.linspace(over_del.shape[0]-Nspad, over_del.shape[0]-1).astype(int) , axis=(0))\n",
    "    \n",
    "print('Bin in data_h5 to be removed: ' +str(over_del))\n",
    "\n",
    "data_crop = np.delete(data_h5, over_del)\n",
    "del over_del\n",
    "del endtime\n",
    "del g\n",
    "del overflow\n",
    "print('\\nFinal size of cropped data: ' +str(data_crop.shape[0]))\n",
    "print('Expected size: ' +str(Nspad*Depth*rep*imgFormat**2*(v-1)))\n",
    "\n",
    "print('size cropped == expected size: ', str(data_crop.shape[0]==Nspad*Depth*rep*imgFormat**2*(v-1)))"
   ]
  },
  {
   "cell_type": "markdown",
   "id": "93501668-20a6-4784-8262-e0c4dc551573",
   "metadata": {},
   "source": [
    "### Reshape data"
   ]
  },
  {
   "cell_type": "markdown",
   "id": "e981547d-318a-4a82-b1d9-a8ead650c63b",
   "metadata": {},
   "source": [
    "Reshape data with a (z,r,y,x,t,ch) format"
   ]
  },
  {
   "cell_type": "code",
   "execution_count": null,
   "id": "1d6e4ba7",
   "metadata": {},
   "outputs": [],
   "source": [
    "z_i, rep_i, y_i, x_i, t_i, ch_i = 0, 1, 2, 3, 4, 5 # indexes of reshaped data"
   ]
  },
  {
   "cell_type": "code",
   "execution_count": null,
   "id": "e84ebff0-91f7-496e-af7f-5ad562f3dd82",
   "metadata": {},
   "outputs": [],
   "source": [
    "fingerprint_meta = np.reshape(Fingerprint_h5, (spadFormat,spadFormat))\n",
    "if not timeSwitch:\n",
    "    data=np.reshape(data_h5,(Depth,1,imgFormat,imgFormat,1,Nspad)) \n",
    "    print('Data format (z,rep,y,x,t,ch) ' +str(data.shape))\n",
    "else:\n",
    "    data=np.reshape(data_crop, (Depth,rep,imgFormat,imgFormat,v-1,Nspad))\n",
    "    print('Data format (z,rep,y,x,t,ch) ' +str(data.shape))\n",
    "    del data_crop\n",
    "   \n",
    "print('\\nCumulative Dwell time (approx.): ' + str(DwellTime) +' ms')\n",
    "print('FoV [um]: ' + str(ImgFoV))\n",
    "if timeSwitch: print('Time binsize [us]: ' +str(t_bin))\n",
    "print('Pixel size [um]: ' +str(pxsizex))\n",
    "del data_h5"
   ]
  },
  {
   "cell_type": "markdown",
   "id": "935bc4b7",
   "metadata": {},
   "source": [
    "# Accelleration:\n",
    "\n",
    "1. write data in a .npy file\n",
    "2. import directly from .npy the data in the format (z,rep,y,x,t,ch)\n",
    "3. load only the metadata from .h5\n",
    "4. select only d3"
   ]
  },
  {
   "cell_type": "code",
   "execution_count": null,
   "id": "e578c6e6",
   "metadata": {},
   "outputs": [],
   "source": [
    "# DATA IS THE ARRAY OF THE SPAD DATA (z,rep,y,x,t,ch)\n",
    "# np.save('data/qdot area3 12,5micron 26mW 5rep 500us',data)\n",
    "# del data\n",
    "# writing time circa 1 min"
   ]
  },
  {
   "cell_type": "code",
   "execution_count": null,
   "id": "444db7b7",
   "metadata": {},
   "outputs": [],
   "source": [
    "# RELOAD FAST:\n",
    "z_i, rep_i, y_i, x_i, t_i, ch_i = 0, 1, 2, 3, 4, 5 # indexes of reshaped data\n",
    "\n",
    "fast_filename = path.join(dir,'data','qdot area3 12,5micron 26mW 5rep 500us.npy') # input\n",
    "\n",
    "f = h5py.File(filename + '.h5', 'r')\n",
    "\n",
    "print('Reloading metadata...')\n",
    "if timeSwitch:\n",
    "    group = f['Fluctuations']\n",
    "    print('Opening time data...')\n",
    "    Endoftime_h5 = group['IsEndOfTimeBin'][()]\n",
    "    t_bin=group['Time'][()][0]/1000        #micros\n",
    "    rep = group.attrs['I_Repetitions'][0]      #repetitions  \n",
    "else:\n",
    "    group = f['Image']\n",
    "\n",
    "# METADATA\n",
    "\n",
    "imgFormat=group.attrs['I_Height'][0]       #pixels\n",
    "Depth=group.attrs['I_Depth'][0]            #repetitions/z\n",
    "ImgFoV=group.attrs['I_XSpan[um]'][0]       #micron\n",
    "pxsizex=group.attrs['I_XPixelSize[nm]'][0]/1000 #micron         \n",
    "ZSpan=group.attrs['I_ZSpan[um]'][0]        #micron\n",
    "pxsizez=group.attrs['I_ZPixelSize[nm]'][0]/1000 #micron\n",
    "Duration=group.attrs['M_Duration[ms]'][0]  #ms\n",
    "DwellTime=Duration/(Depth*imgFormat**2)    #ms (approximate)\n",
    "\n",
    "\n",
    "Fingerprint_h5 = group['Fingerprint'][()]\n",
    "f.close()\n",
    "\n",
    "print('Reloading SPAD data...\\n')\n",
    "data = np.load(fast_filename)\n",
    "print('Data shape: ',data.shape)\n",
    "print('Data format: (z,rep,y,x,t,ch)')"
   ]
  },
  {
   "cell_type": "markdown",
   "id": "14afd351-8f81-4ae8-81b0-1091487ae6aa",
   "metadata": {},
   "source": [
    "To accelerate analysis, we work on single 5x5, 3x3, etc.... \n",
    "Due to memory limits, we work on single repetitions [0,R,:,:,:,i]\n",
    "If more than 1 Z-plane are acquired, we also select it with the first index [Z,R,:,:,:,i]"
   ]
  },
  {
   "cell_type": "code",
   "execution_count": null,
   "id": "00adc026-5dc5-4353-b083-296ee2b1de7b",
   "metadata": {},
   "outputs": [],
   "source": [
    "#Select a single repetition\n",
    "d3 =[data[0,:,:,:,:,i] for i in index3]\n",
    "d3 = np.transpose(np.asarray(d3),(1,2,3,4,0)).sum(axis=0)\n",
    "print('d3 dataset: ' +str(d3.shape))\n",
    "print('d3 dataset order: (x,y,t,ch)')\n",
    "\n",
    "x_i3, y_i3, t_i3, ch_i3 = 0, 1, 2, 3 # indexes of d3 reshaped data\n",
    "\n",
    "\n",
    "#OR sum over repetitions\n",
    "\n",
    "#d3 = np.sum(data[0,:,:,:,:,:],axis=0)  \n",
    "#d3 = [d[:,:,:,i] for i in index3]\n",
    "#d3 = np.transpose(np.asarray(d3),(1,2,3,0))\n",
    "#print('d3 dataset: ' +str(d3.shape))"
   ]
  },
  {
   "cell_type": "markdown",
   "id": "065f7bb3-af78-4417-ae41-45ad451af58d",
   "metadata": {},
   "source": [
    "# Check Dataset"
   ]
  },
  {
   "cell_type": "markdown",
   "id": "7e6203f2-b4eb-4562-bd2c-d98881e22ac4",
   "metadata": {},
   "source": [
    "### Check fingerprint"
   ]
  },
  {
   "cell_type": "code",
   "execution_count": null,
   "id": "66981313-b2c1-47bf-bcc9-d1401ee92b17",
   "metadata": {},
   "outputs": [],
   "source": [
    "fingerprint_meta = np.reshape(Fingerprint_h5, (spadFormat,spadFormat))\n",
    "\n",
    "fingerprint = tool.fingerprint(data.sum(axis=(0,1,4)))\n",
    "print(fingerprint.shape)\n",
    "fingerprint[1,5]=(fingerprint[1,4]+fingerprint[1,6])/2 #smooth spad 12\n",
    "fingerprint_meta[1,5]=(fingerprint_meta[1,4]+fingerprint_meta[1,6])/2\n",
    "c= int((spadFormat-1)/2)  #change it if the maximum is not at the center\n",
    "\n",
    "fig,ax= plt.subplots(1,2, figsize=(10,10))\n",
    "ax[0].imshow(fingerprint, cmap='hot')\n",
    "ax[1].imshow(fingerprint_meta, cmap='hot')\n",
    "#plt.colorbar()\n",
    "for i in range(7):\n",
    "    for j in range(7):\n",
    "        ax[0].text(j-0.3,i, str(round(fingerprint[i,j]*100/fingerprint[c,c])) + '%', color='limegreen')\n",
    "        ax[0].set_title('Experimental fingerprint')\n",
    "        ax[1].text(j-0.3,i, str(round(fingerprint_meta[i,j]*100/fingerprint_meta[c,c])) + '%', color='limegreen')\n",
    "        ax[1].set_title('Software fingerprint')\n",
    "\n",
    "#fig.savefig(savename + ' fingeprint.png')\n",
    "#print(fingerprint)\n",
    "#im = Image.fromarray(fingerprint)\n",
    "#im.save(savename + ' fingerprint tif.tiff')"
   ]
  },
  {
   "cell_type": "markdown",
   "id": "d52acaa6-b342-44f5-8d42-4c85243a3802",
   "metadata": {},
   "source": [
    "### Check Images stack"
   ]
  },
  {
   "cell_type": "code",
   "execution_count": null,
   "id": "96d7ac44-2107-4830-92d8-a36cbd381b27",
   "metadata": {},
   "outputs": [],
   "source": [
    "fig_1 = gra.ShowDataset(np.sum(data,axis=(z_i,rep_i,t_i)),normalize = False, colorbar=False)"
   ]
  },
  {
   "cell_type": "markdown",
   "id": "8eb0300a-9d55-4971-a78b-d0729222a4d4",
   "metadata": {},
   "source": [
    "To save a stack (timetraces, all channels, etc..) Fiji wants time/channel as first index, so we use transpose. <br><br> If you want to save the timetrace of SPAD X from repetition R, it's: $\\;\\;$ \"np.transpose(data[0,R,:,:,:,X], axes=(2,0,1))\" <br>  If you want to save the NxN images, it's:  $\\;\\;$ \"np.transpose(d3.sum(axis=2), axes=(2,0,1))\" <br> Careful about the difference between Data and d3/d5/etc.!"
   ]
  },
  {
   "cell_type": "code",
   "execution_count": null,
   "id": "36b4f9e1-8bcc-4eb3-9099-927f3aa3117a",
   "metadata": {},
   "outputs": [],
   "source": [
    "#Save stacks (x,y,t,ch) # 4 = spad centrale\n",
    "tifffile.imwrite(savename + ' central timestrace.tiff', np.transpose(d3[:,:,:,4], axes=(x_i3,y_i3,t_i3))) # stack temporale canale centrale (ripetizioni sommate)"
   ]
  },
  {
   "cell_type": "code",
   "execution_count": null,
   "id": "7dca8bb7-48f0-49eb-8f4c-fb7110315a2e",
   "metadata": {},
   "outputs": [],
   "source": [
    "#Save single images/stack (z,rep,y,x,t,ch) # 24 = canale centrale\n",
    "im = Image.fromarray(data[0,0,:,:,:,24].sum(axis=rep_i).astype(np.uint8)) # stack temporale del canale centrale (sommando sulle ripetizioni)\n",
    "im.save(savename + ' central.tiff')"
   ]
  },
  {
   "cell_type": "markdown",
   "id": "a342203b-aac7-4aae-8ea4-e276379a3987",
   "metadata": {},
   "source": [
    "# Image reconstruction"
   ]
  },
  {
   "cell_type": "markdown",
   "id": "fd0e7861-ba66-4e6e-b723-31c89f8da263",
   "metadata": {},
   "source": [
    "The available datasets are: \n",
    "\n",
    "data (z,rep,y,x,t,ch) <br> d3, d5,d1 (y,x,t,ch) <br>datacut (y,x,t,ch) (- spad 12)"
   ]
  },
  {
   "cell_type": "markdown",
   "id": "454ee933-cc1b-4455-adc1-d57f1629738c",
   "metadata": {},
   "source": [
    "## Confocal"
   ]
  },
  {
   "cell_type": "code",
   "execution_count": null,
   "id": "f664a35d-bfb4-4cb4-b2f0-b0c1d4e19175",
   "metadata": {},
   "outputs": [],
   "source": [
    "# d3 (y,x,t,ch))\n",
    "# data (z,rep,y,x,t,ch)\n",
    "datacut = np.sum(np.delete(data, 12, ch_i)[0,:,:,:,:],axis=(z_i))[...] #Remove SPAD 12\n",
    "print('datacut: (tutti gli spad -12) ',datacut.shape, '(x,y,t,ch)')\n",
    "print('d3: ',d3.shape, '(x,y,t,ch)')"
   ]
  },
  {
   "cell_type": "code",
   "execution_count": null,
   "id": "7c805f40-f53f-4862-9029-6e62eb18c764",
   "metadata": {},
   "outputs": [],
   "source": [
    "img_sum = d3.sum(axis=(t_i3,ch_i3)) #Sum over time and channel\n",
    "gra.ShowImg(img_sum, pxsize_x = pxsizex)"
   ]
  },
  {
   "cell_type": "code",
   "execution_count": null,
   "id": "495bf4c7-d77c-42b4-82c0-8303bb73bf43",
   "metadata": {},
   "outputs": [],
   "source": [
    "im = Image.fromarray(img_sum)\n",
    "im.save(savename + ' confocal d3.tiff')"
   ]
  },
  {
   "cell_type": "markdown",
   "id": "248d1a50",
   "metadata": {},
   "source": [
    "# time traces:"
   ]
  },
  {
   "cell_type": "markdown",
   "id": "ad032397",
   "metadata": {},
   "source": [
    "## full d3\n"
   ]
  },
  {
   "cell_type": "code",
   "execution_count": null,
   "id": "d447bf97",
   "metadata": {},
   "outputs": [],
   "source": [
    "plt.hist(img_sum.flatten(), bins=27, range=(0,27), edgecolor='black', color='orange', alpha=0.7)\n",
    "plt.title('Histogram of pixel values')\n",
    "plt.xlabel('Pixel value')\n",
    "plt.ylabel('Frequency')\n",
    "plt.yscale('log')\n",
    "plt.show()"
   ]
  },
  {
   "cell_type": "code",
   "execution_count": null,
   "id": "04e6fa41",
   "metadata": {},
   "outputs": [],
   "source": [
    "index_of_pixel_values_grater_than_20 = np.argwhere(img_sum > 20)\n",
    "\n",
    "plt.imshow(img_sum, cmap='hot')\n",
    "plt.scatter(index_of_pixel_values_grater_than_20[:,1], index_of_pixel_values_grater_than_20[:,0], color='blue', s=1)\n",
    "plt.show()"
   ]
  },
  {
   "cell_type": "code",
   "execution_count": null,
   "id": "b06262cd",
   "metadata": {},
   "outputs": [],
   "source": [
    "t = np.linspace(0,500,50)\n",
    "for y,x in index_of_pixel_values_grater_than_20:\n",
    "    # print(f\"Pixel at ({x}, {y}) has value: {img_sum[y, x]}\")\n",
    "    frequency = d3.sum(axis=(ch_i3))[y,x,:]\n",
    "    plt.plot(t,frequency)\n",
    "\n",
    "plt.xlabel('Time bins (us)')\n",
    "plt.show()"
   ]
  },
  {
   "cell_type": "markdown",
   "id": "18b18cff",
   "metadata": {},
   "source": [
    "## solo spad centrale"
   ]
  },
  {
   "cell_type": "code",
   "execution_count": null,
   "id": "861fcfd5",
   "metadata": {},
   "outputs": [],
   "source": [
    "image_center = d3.sum(axis=(t_i3))[:,:,4] #Central spad\n",
    "\n",
    "plt.hist(image_center.flatten(), bins=15, range=(0,15), edgecolor='black', color='purple', alpha=0.7)\n",
    "plt.title('Histogram of pixel values')\n",
    "plt.xlabel('Pixel value')\n",
    "plt.ylabel('Frequency')\n",
    "plt.yscale('log')\n",
    "plt.show()"
   ]
  },
  {
   "cell_type": "code",
   "execution_count": null,
   "id": "3cbdd75a",
   "metadata": {},
   "outputs": [],
   "source": [
    "index_of_pixel_values_grater_than_6 = np.argwhere(image_center > 8)\n",
    "\n",
    "plt.imshow(image_center, cmap='hot')\n",
    "plt.scatter(index_of_pixel_values_grater_than_6[:,1], index_of_pixel_values_grater_than_6[:,0], color='blue', s=1)\n",
    "plt.show()"
   ]
  },
  {
   "cell_type": "code",
   "execution_count": null,
   "id": "d4f85766",
   "metadata": {},
   "outputs": [],
   "source": [
    "t = np.linspace(0,500,50)\n",
    "for y,x in index_of_pixel_values_grater_than_6:\n",
    "    # print(f\"Pixel at ({x}, {y}) has value: {img_sum[y, x]}\")\n",
    "    frequency = d3.sum(axis=(ch_i3))[y,x,:]\n",
    "    plt.plot(t,frequency)\n",
    "\n",
    "plt.xlabel('Time bins (us)')\n",
    "plt.show()"
   ]
  },
  {
   "cell_type": "markdown",
   "id": "de05f511-f6a4-46f9-9c58-d447692fe76f",
   "metadata": {},
   "source": [
    "## APR"
   ]
  },
  {
   "cell_type": "markdown",
   "id": "a4a059bc-9308-4141-8ede-4d373375b686",
   "metadata": {},
   "source": [
    "Use a format (y,x,ch) for the data, remove time and repetions if present. Note: \"shift_vec\" is given in pixels, but apr.Reassignment later wants it in microns!\n",
    "\n",
    "data -> ref = 24 <br> Datacut -> ref = 23 <br> d5 -> ref = 12 <br> d3 -> ref = 4 <br> d1 -> ref = 2"
   ]
  },
  {
   "cell_type": "code",
   "execution_count": null,
   "id": "271edc02-2aa0-470c-bb5e-327d5c62f42f",
   "metadata": {},
   "outputs": [],
   "source": [
    "#ISM image\n",
    "usf = 10  #upsampling factor = subpixel precision\n",
    "ref = 4 #reference image to compute the shift vectors\n",
    "\n",
    "shift_vec, img_ism = apr.APR(d3.sum(axis=(t_i3)), usf, ref, filter_sigma=1, pxsize = pxsizex*1000) #pxsize in nm\n",
    "\n",
    "img_ism_sum = img_ism.sum(axis=-1) # immagine sommando senza shift\n",
    "\n",
    "fig, ax = plt.subplots(1, 2, figsize=(15,5))\n",
    "gra.ShowImg(img_ism_sum, pxsize_x = pxsizex, fig = fig, ax = ax[0])\n",
    "ax[0].set_title('ISM')\n",
    "gra.PlotShiftVectors(shift_vec, fig = fig, ax = ax[1])\n",
    "ax[1].set_title('Shift Vectors')\n",
    "#ax[1].set_xlim(-400,500)\n",
    "#ax[1].set_ylim(-300,400)"
   ]
  },
  {
   "cell_type": "code",
   "execution_count": null,
   "id": "230eb5ef-91ab-443f-9ab4-1bfcb9451167",
   "metadata": {},
   "outputs": [],
   "source": [
    "im = Image.fromarray(img_ism_sum)\n",
    "im.save(savename + ' ISM d3.tiff')\n",
    "\n",
    "extent = ax[1].get_window_extent().transformed(fig.dpi_scale_trans.inverted())\n",
    "fig.savefig(savename + ' shift vectors d3.png', bbox_inches=extent.expanded(1.2, 1.2))\n",
    "\n",
    "#Save all single images as a stack\n",
    "#tifffile.imwrite(savename + ' shifted stack.tiff', np.transpose(img_ism, (2,0,1)))"
   ]
  },
  {
   "cell_type": "code",
   "execution_count": null,
   "id": "1e7ce214-fc92-495c-a140-cb6246f0b26e",
   "metadata": {},
   "outputs": [],
   "source": [
    "fig, ax = plt.subplots(1, 2, figsize=(15,10))\n",
    "\n",
    "gra.ShowImg(img_sum, pxsize_x = pxsizex, fig = fig, ax = ax[0])\n",
    "ax[0].set_title('Confocal')\n",
    "\n",
    "gra.ShowImg(img_ism_sum, pxsize_x = pxsizex, fig = fig, ax = ax[1])\n",
    "ax[1].set_title('ISM')"
   ]
  },
  {
   "cell_type": "markdown",
   "id": "36cb07f6-acd0-4e9e-baf8-b5366f70ce2a",
   "metadata": {},
   "source": [
    "## Deconvolution"
   ]
  },
  {
   "cell_type": "markdown",
   "id": "821f41d9-bd27-4e6d-82f3-54464b56df71",
   "metadata": {},
   "source": [
    "### Open experimental PSF"
   ]
  },
  {
   "cell_type": "markdown",
   "id": "35359de2-a4e9-484a-9584-ef09437f000d",
   "metadata": {},
   "source": [
    "Open a tiff stack of the 49 PSFs and resize them to the same pixel size and number of pixels of the image"
   ]
  },
  {
   "cell_type": "code",
   "execution_count": null,
   "id": "a4e45242-ec27-46ce-b468-d33d3171615e",
   "metadata": {},
   "outputs": [],
   "source": [
    "# upload PSF\n",
    "\n",
    "psf_exp=tifffile.imread(path.join(dir,'images','output',\"170nm 5micron 220mW 50rep stack (PSF).tiff\"))\n",
    "psf_fov = 5 #micron\n",
    "psf_format = 512\n",
    "psf_exp =np.transpose(psf_exp, (1,2,0))\n",
    "figx = gra.ShowDataset(psf_exp[160:360,160:360,:], normalize=False)"
   ]
  },
  {
   "cell_type": "code",
   "execution_count": null,
   "id": "0e48466a-f4f0-4959-ae40-781206c52456",
   "metadata": {},
   "outputs": [],
   "source": [
    "psf_pxsize = psf_fov/psf_format\n",
    "rap=pxsizex/psf_pxsize\n",
    "l= round(psf_format/rap)\n",
    "psf_exp=cv2.resize(psf_exp.astype(float), (l,l))\n",
    "psf_pxsize = psf_fov/psf_exp.shape[0]\n",
    "\n",
    "pd= round((img_sum.shape[0]-psf_exp.shape[0])/2)\n",
    "pd2=(img_sum.shape[0]-psf_exp.shape[0])-pd\n",
    "psf_exp=np.pad(psf_exp,((pd,pd2),(pd,pd2),(0,0)), 'constant')\n",
    "print(\"PSF format: \" + str(psf_exp.shape))\n",
    "print(\"image format: \" + str(data.shape))\n",
    "print(\"PSF pixel: \" + str(psf_pxsize))\n",
    "print(\"img pixel: \" + str(pxsizex))"
   ]
  },
  {
   "cell_type": "markdown",
   "id": "400a7ee2-5f39-401e-900b-de75c08c68c2",
   "metadata": {},
   "source": [
    " <br>Define psfcut, psf_d3, etc. like for the image"
   ]
  },
  {
   "cell_type": "code",
   "execution_count": null,
   "id": "ae81f952-815b-4586-8834-6799fc9d7616",
   "metadata": {},
   "outputs": [],
   "source": [
    "psfcut=np.delete(psf_exp, 12,2) #Remove SPAD 12\n",
    "print(psfcut.shape)\n",
    "\n",
    "psf_d3 =np.transpose(np.asarray([psf_exp[:,:,i] for i in index3]),axes=(1,2,0))\n",
    "print(psf_d3.shape)"
   ]
  },
  {
   "cell_type": "code",
   "execution_count": null,
   "id": "72ac7f48-5edd-4fe8-9d9f-bc9420f2b705",
   "metadata": {},
   "outputs": [],
   "source": [
    "fig_x = gra.ShowDataset(psf_d3[200:300,200:300,:],normalize = False, colorbar=False)"
   ]
  },
  {
   "cell_type": "markdown",
   "id": "13e6cb36-4ea0-4891-adf9-b9cac7c89c29",
   "metadata": {},
   "source": [
    "### Deconvolve"
   ]
  },
  {
   "cell_type": "markdown",
   "id": "88504c44-1c02-4e1e-93ef-d4eadfed370d",
   "metadata": {},
   "source": [
    "if out='all' the result is a stack of the iterations, select img_deconv[-1,x,y]. If out='last',it gives only the final iteration [x,y]"
   ]
  },
  {
   "cell_type": "code",
   "execution_count": null,
   "id": "e70f3c3f-ff40-4431-8608-1b73de7d76e1",
   "metadata": {},
   "outputs": [],
   "source": [
    "print(psf_d3.shape)\n",
    "print(d3.shape)"
   ]
  },
  {
   "cell_type": "code",
   "execution_count": null,
   "id": "ba1b04d9-b3ef-4573-ba5b-1ac68cc33900",
   "metadata": {},
   "outputs": [],
   "source": [
    "#classical deconvolutin\n",
    "img_deconv = dec.MultiImg_RL_FFT(psfcut, datacut.sum(axis=(2)), max_iter = 15, reg=0, out='all') #all or last\n",
    "gra.ShowImg(img_deconv[-1,...], pxsize_x = pxsizex)"
   ]
  },
  {
   "cell_type": "code",
   "execution_count": null,
   "id": "fec513a8-06ef-43bf-86c3-bb7765eea785",
   "metadata": {},
   "outputs": [],
   "source": [
    "print(img_sum.shape)"
   ]
  },
  {
   "cell_type": "code",
   "execution_count": null,
   "id": "14f15caf-ff26-4270-8648-092c2cc69f28",
   "metadata": {},
   "outputs": [],
   "source": [
    "fig, ax = plt.subplots(1, 3, figsize=(20,20))\n",
    "gra.ShowImg(img_sum[100:250,0:150], pxsize_x = pxsizex, fig = fig, ax = ax[0])\n",
    "ax[0].set_title('Confocal')\n",
    "gra.ShowImg(img_ism_sum[100:250,0:150], pxsize_x = pxsizex, fig = fig, ax = ax[1])\n",
    "ax[1].set_title('ISM')\n",
    "gra.ShowImg(img_deconv[-1,100:250,0:150], pxsize_x = pxsizex, fig = fig, ax = ax[2])\n",
    "ax[2].set_title('Deconvolution')"
   ]
  },
  {
   "cell_type": "code",
   "execution_count": null,
   "id": "cf6d1f8a-481c-4c92-9457-5578ef9a50d0",
   "metadata": {},
   "outputs": [],
   "source": [
    "#Save all iterations\n",
    "tifffile.imwrite(savename + ' deconv all-iter.tiff', img_deconv)"
   ]
  },
  {
   "cell_type": "code",
   "execution_count": null,
   "id": "5bb3a969-91f7-422c-afef-87a64f2148a5",
   "metadata": {},
   "outputs": [],
   "source": [
    "im = Image.fromarray(img_deconv[-1,...])\n",
    "im.save(savename + ' deconv d3 10rep.tiff')"
   ]
  },
  {
   "cell_type": "markdown",
   "id": "2fc02311-2fca-4f2e-a926-9149c7e0074f",
   "metadata": {},
   "source": [
    "## ISM-SRRF"
   ]
  },
  {
   "cell_type": "code",
   "execution_count": null,
   "id": "6a330d82-49a9-41d9-93f5-b4d3dd428f5a",
   "metadata": {},
   "outputs": [],
   "source": [
    "#Open ISS Tiff image\n",
    "img_iss=np.asarray(Image.open(\"G:/Drive condivisi/BioPhotonics/Riccardo/Clara tesi/dati 2024 11 19 sfere 170nm xy/170nm 12,5micron 100mW 30rep 2 FR d3 k80 epsilon0.2.tiff\"))\n",
    "pxsizex=0.0488"
   ]
  },
  {
   "cell_type": "markdown",
   "id": "861d1255-c1c8-45a5-a7c8-4aaa8be772c8",
   "metadata": {},
   "source": [
    "Define magnification and radius as variables so every method uses the same values"
   ]
  },
  {
   "cell_type": "code",
   "execution_count": null,
   "id": "8560374a-f1a4-42fd-833e-fc035dac3aec",
   "metadata": {},
   "outputs": [],
   "source": [
    "magn = 1\n",
    "radius=10"
   ]
  },
  {
   "cell_type": "markdown",
   "id": "980ea5d3-7d20-4e14-b20a-4f987cd7a7ce",
   "metadata": {},
   "source": [
    "For applying reassignment between SRRF steps, we take the shift that were previously found from the \"classical\" reconstruction. NOTE: if APR was done a 3x3, the shifts here will be a 3x3 as well! Pay attention that the images and the shift have the same format when doing reassignment!"
   ]
  },
  {
   "cell_type": "code",
   "execution_count": null,
   "id": "fe35fa8d-34ef-4afc-959a-1ffe1feb3d85",
   "metadata": {},
   "outputs": [],
   "source": [
    "shift3=shift_vec/(pxsizex*1000)\n",
    "print('3x3 shift vectors shape: ' + str(shift3.shape))"
   ]
  },
  {
   "cell_type": "markdown",
   "id": "a1154774-1ff5-43a1-baec-5aa7158c90b7",
   "metadata": {},
   "source": [
    "### 1) ISM->Radiality"
   ]
  },
  {
   "cell_type": "markdown",
   "id": "9529102c-b076-4739-8b37-ebe4381c297a",
   "metadata": {},
   "source": [
    "Here, we take the ISM reconstructed image img_ism_sum (or the deconvolved image img_deconv) and calculate only the radiality map. <br><br> NOTE: srrf_ism_1 has an additional index for time at the beginning. When showing the image, use \"srrf_ism_1[0,x,y]\""
   ]
  },
  {
   "cell_type": "code",
   "execution_count": null,
   "id": "14fd809f-7bf3-47c3-9284-206087c8aea4",
   "metadata": {},
   "outputs": [],
   "source": [
    "srrf_ism_1 = eSRRF(np.ascontiguousarray(img_ism_sum[...]), magnification=magn,radius=7,doIntensityWeighting=True)[0]\n",
    "print(srrf_ism_1.shape)"
   ]
  },
  {
   "cell_type": "code",
   "execution_count": null,
   "id": "9e477a2d-b355-4d47-8e86-af40fb2897ee",
   "metadata": {},
   "outputs": [],
   "source": [
    "fig, ax = plt.subplots(1,2,figsize=(15,15))\n",
    "ax[0].imshow(img_deconv[-1,...],vmax=400)\n",
    "ax[0].set_title('ISM')\n",
    "ax[1].imshow(srrf_ism_1[0,...],vmax=30)\n",
    "ax[1].set_title('SRRF over sumed ISM')"
   ]
  },
  {
   "cell_type": "code",
   "execution_count": null,
   "id": "c8cae477-9a03-4137-b273-0e9141b2f2f3",
   "metadata": {},
   "outputs": [],
   "source": [
    "im = Image.fromarray(img_deconv[-1,...])\n",
    "im.save(savename + ' deconv.tiff')"
   ]
  },
  {
   "cell_type": "markdown",
   "id": "05576e41-1fa5-4a82-b274-2386b61a3b29",
   "metadata": {},
   "source": [
    "### 2) ISM->SRRF"
   ]
  },
  {
   "cell_type": "markdown",
   "id": "cda531ba-4f36-426f-97c3-2ee9b81ec3ee",
   "metadata": {},
   "source": [
    "First, do pixel reassignment for every timeframe, obtaining a sequence of ISM images (ttrace_ism [x,y,t]). Then we measure radiality and apply the temporal analysis"
   ]
  },
  {
   "cell_type": "markdown",
   "id": "3ad8ebd5-f6da-4e1a-8eb3-4706fa71852f",
   "metadata": {},
   "source": [
    "For temporal analysis we have three possibilities: AVG makes an average of the radiality, VAR takes the variance, TAC2 computes the second order autocorrelation"
   ]
  },
  {
   "cell_type": "code",
   "execution_count": null,
   "id": "c37f6815-e0c1-4747-947a-8bb45bd59f29",
   "metadata": {},
   "outputs": [],
   "source": [
    "ttrace_ism = np.zeros(d3.shape)\n",
    "\n",
    "for i in tqdm(range(ttrace_ism.shape[2])):  #iterate over time bins\n",
    "    ttrace_ism[:,:,i,:]=apr.Reassignment(shift3,d3[:,:,i,:])\n",
    "ttrace_ism=np.sum(ttrace_ism, axis=(-1))\n",
    "print('ttrace_ism format [x,y,t]: ' +str(ttrace_ism.shape))"
   ]
  },
  {
   "cell_type": "code",
   "execution_count": null,
   "id": "77a7ed8a-6307-4010-b395-c61d02203396",
   "metadata": {},
   "outputs": [],
   "source": [
    "#tifffile.imwrite(savename + ' ism d3 timetrace.tiff', np.transpose(ttrace_ism, axes=(2,0,1)))"
   ]
  },
  {
   "cell_type": "code",
   "execution_count": null,
   "id": "39ca557a-ac21-4353-a526-21bdef8c0d72",
   "metadata": {},
   "outputs": [],
   "source": [
    "#Check that, summing over time, the image is the same to the previous reassigned image\n",
    "\n",
    "fig, ax = plt.subplots(1, 2, figsize=(8,8))\n",
    "ax[0].imshow(ttrace_ism.sum(axis=(-1)),vmax=30)\n",
    "ax[0].set_title('separate reass')\n",
    "ax[1].imshow(img_ism_sum,vmax=30)\n",
    "ax[1].set_title('classical ism')"
   ]
  },
  {
   "cell_type": "code",
   "execution_count": null,
   "id": "724b55f3-6b4f-49ab-bb4f-916abf1c3a6d",
   "metadata": {},
   "outputs": [],
   "source": [
    "#Here we do the radiality map and the temporal analysis\n",
    "\n",
    "rad_ism_2 = np.transpose(np.zeros((ttrace_ism.shape)), axes=(2,0,1))\n",
    "srrf_ism_2 = np.zeros(ttrace_ism.shape[:2])\n",
    "\n",
    "rad_ism_2[:,:,:] = eSRRF(np.ascontiguousarray(np.transpose(ttrace_ism[:,:,:],axes=(2,0,1))), magnification=magn,radius=radius)[0]\n",
    "srrf_ism_2[:,:] = calculate_eSRRF_temporal_correlations(rad_ism_2[...], 'AVG')"
   ]
  },
  {
   "cell_type": "code",
   "execution_count": null,
   "id": "20d694fa-b7d8-49e0-9985-00fa63335ef2",
   "metadata": {},
   "outputs": [],
   "source": [
    "plt.imshow(srrf_ism_2[...],vmin=0,vmax=0.2)\n",
    "plt.colorbar()"
   ]
  },
  {
   "cell_type": "code",
   "execution_count": null,
   "id": "6151819a-b5d5-4a88-ad5b-8380a30571f7",
   "metadata": {},
   "outputs": [],
   "source": [
    "im = Image.fromarray(srrf_ism_2)\n",
    "im.save(savename + ' SRRF_ismtrace.tiff')"
   ]
  },
  {
   "cell_type": "markdown",
   "id": "54a71958-6ad7-43d1-9a6a-a9dca6e2a43d",
   "metadata": {},
   "source": [
    "### 3) SRRF->ISM"
   ]
  },
  {
   "cell_type": "markdown",
   "id": "033e84e4-b96f-4ae9-b9a6-26c736b848db",
   "metadata": {},
   "source": [
    "Here we apply SRRF to the time sequece of every spad, obtaining N SRRF images that we will then reassign"
   ]
  },
  {
   "cell_type": "code",
   "execution_count": null,
   "id": "c632e13d-758d-491d-9ce5-a4c633eefc81",
   "metadata": {},
   "outputs": [],
   "source": [
    "rad_d3= np.transpose(np.zeros(d3.shape),axes=(2,0,1,3))\n",
    "srrf_d3= np.zeros((d3.shape[0],d3.shape[1],d3.shape[3]))\n",
    "print(rad_d3.shape)\n",
    "print(srrf_d3.shape)\n",
    "\n",
    "for i in range(d3.shape[3]):\n",
    "    rad_d3[:,:,:,i] = eSRRF(np.ascontiguousarray(np.transpose(d3[:,:,:,i],axes=(2,0,1))), magnification=magn,radius=radius)[0]\n",
    "    srrf_d3[:,:,i] = calculate_eSRRF_temporal_correlations(rad_d3[:,:,:,i], 'AVG')"
   ]
  },
  {
   "cell_type": "code",
   "execution_count": null,
   "id": "25779100-b4ee-4e1d-8373-da734a517ab8",
   "metadata": {},
   "outputs": [],
   "source": [
    "fig_1 = gra.ShowDataset(srrf_d3,normalize = False, colorbar=False)"
   ]
  },
  {
   "cell_type": "code",
   "execution_count": null,
   "id": "7359dbe4-faff-4d54-a349-044c11853236",
   "metadata": {},
   "outputs": [],
   "source": [
    "# Compare the central element intensity image with its SRRF counterpart\n",
    "\n",
    "fig, ax = plt.subplots(1, 2, figsize=(15,5))\n",
    "ax[0].imshow(d3.sum(axis=(2))[0:250,250:500,4], vmax=3)\n",
    "ax[0].set_title('central element')\n",
    "ax[1].imshow(srrf_d3[0:250,250:500,4], vmax=0.0000003)\n",
    "ax[1].set_title('central SRRF')"
   ]
  },
  {
   "cell_type": "markdown",
   "id": "7bb6ff4b-b9a2-43ed-adfc-b8e30f1e40af",
   "metadata": {},
   "source": [
    "Here we do the reassignment. NOTE: We can use shift3 only if the magnification is 1! if magnification>1, we have to do apr.APR and re-compute the shift, or rescale the shifts in some way"
   ]
  },
  {
   "cell_type": "code",
   "execution_count": null,
   "id": "f8a9afc9-12ba-4db5-85d8-2b5c7ea0b5f4",
   "metadata": {},
   "outputs": [],
   "source": [
    "srrf_ism_3 =apr.Reassignment(shift3,srrf_d3)\n",
    "srrf_ism_3 = srrf_ism_3.sum(axis=-1)\n",
    "\n",
    "fig, ax = plt.subplots(1, 2, figsize=(15,5))\n",
    "ax[0].imshow(srrf_ism_3[...],vmax=0.02)\n",
    "ax[0].set_title('Reassigned SRRF')\n",
    "ax[1].imshow(img_ism_sum, vmax=50)\n",
    "ax[1].set_title('ISM comparison')"
   ]
  },
  {
   "cell_type": "code",
   "execution_count": null,
   "id": "7aa2fbf8-b9b7-4a55-98d4-477631d2e5aa",
   "metadata": {},
   "outputs": [],
   "source": [
    "im = Image.fromarray(srrf_ism_3)\n",
    "im.save(savename + ' SRRF-apr.tiff')\n"
   ]
  },
  {
   "cell_type": "markdown",
   "id": "67ec9fa9-92e9-4baa-a91b-5dbb0fe43f79",
   "metadata": {
    "jp-MarkdownHeadingCollapsed": true
   },
   "source": [
    "## Results"
   ]
  },
  {
   "cell_type": "code",
   "execution_count": null,
   "id": "6eceba5e-9850-4dde-89b7-7245ea5bcf8e",
   "metadata": {},
   "outputs": [],
   "source": [
    "fig, ax = plt.subplots(2,3, figsize=(20,10))\n",
    "plt.subplots_adjust(hspace=0.2)\n",
    "\n",
    "ax1 = ax[0,0].imshow(img_sum[300:450,0:150])\n",
    "ax[0,0].set_title('Confocal')\n",
    "fig.colorbar(ax1,fraction=0.046, pad=0.04)\n",
    "\n",
    "ax2=ax[0,1].imshow(img_ism_sum[300:450,0:150])\n",
    "ax[0,1].set_title('ISM')\n",
    "fig.colorbar(ax2,fraction=0.046, pad=0.04)\n",
    "\n",
    "ax3=ax[0,2].imshow(img_sofi_sum[300:450,0:150], vmax =15000)\n",
    "ax[0,2].set_title('SOFISM')\n",
    "fig.colorbar(ax3,fraction=0.046, pad=0.04)\n",
    "\n",
    "ax4=ax[1,0].imshow(srrf_ism_1[0,300:450,0:150], vmax=200)\n",
    "ax[1,0].set_title('ISM -> Radiality')\n",
    "fig.colorbar(ax4,fraction=0.046, pad=0.04)\n",
    "\n",
    "ax5=ax[1,1].imshow(srrf_ism_2[300:450,0:150])\n",
    "ax[1,1].set_title('APR -> SRRF')\n",
    "fig.colorbar(ax5,fraction=0.046, pad=0.04)\n",
    "\n",
    "ax6=ax[1,2].imshow(srrf_ism_3[300:450,0:150], vmax=0.8)\n",
    "ax[1,2].set_title('SRRF -> APR')\n",
    "fig.colorbar(ax6,fraction=0.046, pad=0.04)"
   ]
  },
  {
   "cell_type": "markdown",
   "id": "337075fa-0a2c-4e3c-bdcf-579590164144",
   "metadata": {},
   "source": [
    "# Resolution measurement"
   ]
  },
  {
   "cell_type": "code",
   "execution_count": null,
   "id": "8c252320-d003-4009-86e7-0a926c857520",
   "metadata": {},
   "outputs": [],
   "source": [
    "img_1 = img_deconv[-1,...]\n",
    "img_2 = srrf_ism_1[0,...]"
   ]
  },
  {
   "cell_type": "code",
   "execution_count": null,
   "id": "3f3e7bc0-f2c8-4e53-8b94-3ffe71747e1a",
   "metadata": {},
   "outputs": [],
   "source": [
    "img_1=tifffile.imread(\"C:/Users/rbolz/Downloads/qdots confocal repsum.tif\")\n",
    "img_2=img_deconv[-1,...]"
   ]
  },
  {
   "cell_type": "markdown",
   "id": "776a2f0c-94ca-4b8f-8a9a-132dd7fbde20",
   "metadata": {},
   "source": [
    "## Find peaks"
   ]
  },
  {
   "cell_type": "code",
   "execution_count": null,
   "id": "2fd3cf49-aeea-4d12-9634-14d83915cba2",
   "metadata": {},
   "outputs": [],
   "source": [
    "xc=peak_local_max(img_1,min_distance=5, threshold_abs=15)\n",
    "\n",
    "maxvalues=np.zeros(xc.shape[0],dtype='float')\n",
    "for i in range(xc.shape[0]):\n",
    "    maxvalues[i]=img_1[xc[i,0],xc[i,1]]\n",
    "\n",
    "    xc1=np.zeros((xc.shape[0],2))\n",
    "n=0\n",
    "for i in range(xc.shape[0]):\n",
    "    if 200>maxvalues[i]>80: #Change value range\n",
    "        xc1[n,:]=xc[i,:]\n",
    "        n+=1       \n",
    "xc1=xc1[0:n,:]"
   ]
  },
  {
   "cell_type": "code",
   "execution_count": null,
   "id": "390ab1a3-7991-419e-b3fb-dad02df38b0b",
   "metadata": {},
   "outputs": [],
   "source": [
    "ROIsizeC = 30\n",
    "Npart = xc1.shape[0]\n",
    "fig, ax = plt.subplots(1, 2, figsize=(15,15))\n",
    "\n",
    "ax[0].imshow(img_1,cmap='hot', vmax=300)\n",
    "#ax[0].scatter(xc1[:,1],xc1[:,0])\n",
    "ax[0].set_title('Confocal')\n",
    "for l in range(Npart):\n",
    "    rect = Rectangle((xc1[l,1]-ROIsizeC/2,xc1[l,0]-ROIsizeC/2),ROIsizeC,ROIsizeC,linewidth=1,edgecolor='w',facecolor='none')\n",
    "    ax[0].add_patch(rect)\n",
    "    ax[0].text(xc1[l,1]+4+ROIsizeC/2, xc1[l,0], l, fontsize=14, color='green')\n",
    "    \n",
    "ax[1].imshow(img_2,cmap='hot', vmax=50)\n",
    "ax[1].set_title('ISM')\n",
    "for l in range(Npart):\n",
    "    rect = Rectangle((xc1[l,1]-ROIsizeC/2,xc1[l,0]-ROIsizeC/2),ROIsizeC,ROIsizeC,linewidth=1,edgecolor='w',facecolor='none')\n",
    "    ax[1].add_patch(rect)\n",
    "    ax[1].text(xc1[l,1]+4+ROIsizeC/2, xc1[l,0], l, fontsize=14, color='white')   \n",
    "ax = plt.gca()"
   ]
  },
  {
   "cell_type": "code",
   "execution_count": null,
   "id": "1108cb5b-1b21-45db-a32c-bb57266ca6c2",
   "metadata": {},
   "outputs": [],
   "source": [
    "# Remove specific particles\n",
    "#Refresh the image above to see the updated indexes after every deletion!\n",
    "\n",
    "xc1=np.delete(xc1,[2,12],0)\n",
    "Npart = xc1.shape[0]"
   ]
  },
  {
   "cell_type": "markdown",
   "id": "bb92c211-1aa2-4343-afe5-64922f6aa609",
   "metadata": {},
   "source": [
    "## Particle Fit"
   ]
  },
  {
   "cell_type": "code",
   "execution_count": null,
   "id": "5db02122-001b-4de1-80cf-989fcd065e76",
   "metadata": {},
   "outputs": [],
   "source": [
    "def erfC(x, amp, xc, w, offset):\n",
    "    fitfunction=amp*w*w*np.pi*(1-scipy.special.erf((xc-x)/(np.sqrt(2.0)*w)))+offset*ROIsizeC*x\n",
    "    return fitfunction"
   ]
  },
  {
   "cell_type": "code",
   "execution_count": null,
   "id": "a97052c7-9f8c-4d99-a3f1-a527a4b6fb77",
   "metadata": {},
   "outputs": [],
   "source": [
    "res_conf=np.zeros((Npart,3))\n",
    "res_ism=np.zeros((Npart,3))\n",
    "integrali_conf=np.zeros((Npart,ROIsizeC,2))\n",
    "integrali_ism=np.zeros((Npart,ROIsizeC,2))\n",
    "\n",
    "for l in range(0,Npart,1): #inizia il loop sulle particelle\n",
    "    \n",
    "    ROItemp_conf=np.zeros((ROIsizeC,ROIsizeC),dtype='float')\n",
    "    ROItemp_ism=np.zeros((ROIsizeC,ROIsizeC),dtype='float')\n",
    "    yi= (xc1[l,1]-ROIsizeC/2).astype(int)\n",
    "    yf= (xc1[l,1]+ROIsizeC/2).astype(int)\n",
    "    xi= (xc1[l,0]-ROIsizeC/2).astype(int)\n",
    "    xf= (xc1[l,0]+ROIsizeC/2).astype(int)\n",
    "    \n",
    "    for i in range(xi,xf,1): #crea la ROI attorno alla NP\n",
    "        for j in range(yi,yf,1):\n",
    "            ROItemp_conf[i-xi][j-yi]=img_1[i][j]\n",
    "            ROItemp_ism[i-xi][j-yi]=img_2[i][j]\n",
    "    #plt.imshow(ROItemp_conf.T)\n",
    "    \n",
    "    integral_conf=np.zeros(ROIsizeC+1,dtype='float')\n",
    "    integral_ism=np.zeros(ROIsizeC+1,dtype='float')\n",
    "    axisC=np.zeros(ROIsizeC+1,dtype='float')\n",
    "    \n",
    "    for i in range(ROIsizeC+1):\n",
    "        axisC[i]=i\n",
    "        \n",
    "    for i in range(ROIsizeC):   \n",
    "        for j in range(ROIsizeC):\n",
    "            integral_conf[i]=integral_conf[i]+ROItemp_conf[j][i]\n",
    "            integral_ism[i]=integral_ism[i]+ROItemp_ism[j][i]\n",
    "        integral_conf[i+1]=integral_conf[i]\n",
    "        integral_ism[i+1]=integral_ism[i]\n",
    "            \n",
    "    popt1, pcov1 = curve_fit(erfC, axisC, integral_conf, bounds=(0,np.inf), p0=(5,25,3,0))\n",
    "    popt2, pcov2 = curve_fit(erfC, axisC, integral_ism, bounds=(0,np.inf), p0=(5,15,3,0))\n",
    "    \n",
    "    res_conf[l,0]=res_ism[l,0]=l\n",
    "    res_conf[l,1]=popt1[2]*pxsizex*2.35/magn\n",
    "    res_ism[l,1]=popt2[2]*pxsizex*2.35/magn\n",
    "    res_conf[l,2]=popt1[0]\n",
    "    res_ism[l,2]=popt2[0]\n",
    "    \n",
    "    \n",
    "    for i in range(ROIsizeC):\n",
    "        integrali_conf[l,i,0]=integral_conf[i]\n",
    "        integrali_conf[l,i,1]=erfC(axisC,*popt1)[i]\n",
    "        integrali_ism[l,i,0]=integral_ism[i]\n",
    "        integrali_ism[l,i,1]=erfC(axisC,*popt2)[i]\n",
    "    \n",
    "print('Confocal Avg FWHM: \\n' + str(np.mean(res_conf[:,1])) + ' +- ' + str(np.std(res_conf[:,1])) + '\\n\\n ISM Avg FWHM: \\n' + str(np.mean(res_ism[:,1])) + ' +- ' + str(np.std(res_ism[:,1])))\n",
    "print('\\nConfocal Intensity: \\n' + str(np.mean(res_conf[:,2])) + ' +- ' + str(np.std(res_conf[:,2])) + '\\n\\n ISM Intensity: \\n' + str(np.mean(res_ism[:,2])) + ' +- ' + str(np.std(res_ism[:,2])))"
   ]
  },
  {
   "cell_type": "code",
   "execution_count": null,
   "id": "16a2027e-c1cd-41e4-a72b-ac49d57625db",
   "metadata": {},
   "outputs": [],
   "source": [
    "print( 'Confocal results: \\n' + str(res_conf) + '\\n\\n ISM results: \\n' + str(res_ism))"
   ]
  },
  {
   "cell_type": "code",
   "execution_count": null,
   "id": "9ae98b8b-2f5c-43e3-bb7f-e1aa5b7eda5a",
   "metadata": {},
   "outputs": [],
   "source": [
    "plt.plot(integrali_conf[1,:,0],marker='o')\n",
    "plt.plot(integrali_conf[1,:,1],linestyle='dashed')\n",
    "plt.tick_params(axis='both', direction= 'in')"
   ]
  },
  {
   "cell_type": "code",
   "execution_count": null,
   "id": "826b9221-51b8-4d8e-b892-ee8288acaeea",
   "metadata": {},
   "outputs": [],
   "source": []
  },
  {
   "cell_type": "markdown",
   "id": "2d84121f-d0aa-40df-8f2f-49ebd010707d",
   "metadata": {},
   "source": []
  },
  {
   "cell_type": "markdown",
   "id": "b0131857-1a11-4847-980f-f3fc92b5cbfb",
   "metadata": {
    "jp-MarkdownHeadingCollapsed": true
   },
   "source": [
    "## pROVE CORRELAZIONI"
   ]
  },
  {
   "cell_type": "code",
   "execution_count": null,
   "id": "8c923661-b9f0-4a07-b619-91152c6e3589",
   "metadata": {},
   "outputs": [],
   "source": [
    "print(d3.shape)"
   ]
  },
  {
   "cell_type": "code",
   "execution_count": null,
   "id": "1b2238f5-7d16-4649-b5db-b7c7c9a5abef",
   "metadata": {},
   "outputs": [],
   "source": [
    "#Definisco sequenza intensità ISM\n",
    "\n",
    "ttrace_ism = np.zeros((3,512,512,50,9))\n",
    "\n",
    "for i in tqdm(range(50)):\n",
    "    ttrace_ism[0,:,:,i,:]=apr.Reassignment(shift3,d3[0,:,:,i,:])\n",
    "    ttrace_ism[1,:,:,i,:]=apr.Reassignment(shift3,d3[1,:,:,i,:])\n",
    "    ttrace_ism[2,:,:,i,:]=apr.Reassignment(shift3,d3[2,:,:,i,:])\n",
    "ttrace_ism_sum=np.sum(ttrace_ism, axis=(-1))\n",
    "print(ttrace_ism_sum.shape)"
   ]
  },
  {
   "cell_type": "code",
   "execution_count": null,
   "id": "f2474d96-cf3c-413b-91f1-108b045c297b",
   "metadata": {},
   "outputs": [],
   "source": [
    "plt.plot(ttrace_ism_sum[0,440,332,:])"
   ]
  },
  {
   "cell_type": "code",
   "execution_count": null,
   "id": "ca0aa1fd-3f78-48ab-b063-d9e432d1cb18",
   "metadata": {},
   "outputs": [],
   "source": [
    "#SRRF sulla sequenza di intensità\n",
    "srrf_ism_2_var = np.zeros((3,512,512))\n",
    "srrf_ism_2_avg = np.zeros((3,512,512))\n",
    "srrf_ism_2_tac = np.zeros((3,512,512))\n",
    "\n",
    "for f in range(3):\n",
    "    srrf_ism_sum_2= eSRRF(np.ascontiguousarray(np.transpose(ttrace_ism_sum[f,:,:,:],axes=(2,0,1))), magnification=1,radius=7)[0]\n",
    "    srrf_ism_2_var[f,...] = calculate_eSRRF_temporal_correlations(srrf_ism_sum_2, 'VAR')\n",
    "    srrf_ism_2_avg[f,...] = calculate_eSRRF_temporal_correlations(srrf_ism_sum_2, 'AVG')\n",
    "    srrf_ism_2_tac[f,...] = calculate_eSRRF_temporal_correlations(srrf_ism_sum_2, 'TAC2')"
   ]
  },
  {
   "cell_type": "code",
   "execution_count": null,
   "id": "c1cb5abb-ca09-4edb-a5e3-a773942a1562",
   "metadata": {},
   "outputs": [],
   "source": [
    "print(srrf_ism_2_tac.shape)"
   ]
  },
  {
   "cell_type": "code",
   "execution_count": null,
   "id": "8db9b8d7-f24a-4746-9558-19df7dacaa89",
   "metadata": {},
   "outputs": [],
   "source": [
    "srrf_ism_2_var_mean = np.mean(srrf_ism_2_var, axis=0)\n",
    "srrf_ism_2_avg_mean = np.mean(srrf_ism_2_avg, axis=0)\n",
    "srrf_ism_2_tac_mean = np.abs(np.mean(srrf_ism_2_tac, axis=0))"
   ]
  },
  {
   "cell_type": "code",
   "execution_count": null,
   "id": "6be070ab-1a0f-463c-aff3-e68922e59c9d",
   "metadata": {},
   "outputs": [],
   "source": [
    "fig, ax = plt.subplots(1,3,figsize=(10,10))\n",
    "ax0 = ax[0].imshow(srrf_ism_2_avg_mean[430:455, 320:345])\n",
    "ax[0].set_title('average')\n",
    "ax1= ax[1].imshow(srrf_ism_2_var_mean[430:455, 320:345])\n",
    "ax[1].set_title('Variance')\n",
    "ax2 = ax[2].imshow(srrf_ism_2_tac_mean[430:455, 320:345])\n",
    "ax[2].set_title('Autocorr.')\n",
    "print(srrf_ism_sum_2.shape)"
   ]
  },
  {
   "cell_type": "code",
   "execution_count": null,
   "id": "11ca5f40-0b9e-4175-905a-ea7230e0b4f0",
   "metadata": {},
   "outputs": [],
   "source": [
    "def correla(t1,tau):\n",
    "    corr_carota=0\n",
    "    t1_b = t1 - np.mean(t1)\n",
    "    \n",
    "    for i in range(t1.shape[0]-tau):\n",
    "        corr_carota += t1_b[i]*t1_b[i+tau]\n",
    "    corr_carota /= t1.shape[0]-tau\n",
    "    corr_carota /= np.mean(t1)**2\n",
    "    return corr_carota"
   ]
  },
  {
   "cell_type": "code",
   "execution_count": null,
   "id": "26703bb5-ba39-4142-a192-4d379b542e19",
   "metadata": {},
   "outputs": [],
   "source": [
    "img_autocorr=np.zeros((512,512,2))\n",
    "for i in tqdm(range(srrf_ism_sum_2.shape[1])):\n",
    "    for j in range(srrf_ism_sum_2.shape[2]):\n",
    "        for tau in range(2):\n",
    "            img_autocorr[i,j,tau] = correla(srrf_ism_sum_2[:,i,j],tau)"
   ]
  },
  {
   "cell_type": "code",
   "execution_count": null,
   "id": "d9db4071-a36a-4a4b-846c-f93e8e9c73eb",
   "metadata": {},
   "outputs": [],
   "source": [
    "plt.imshow(img_autocorr[:,:,1])"
   ]
  },
  {
   "cell_type": "code",
   "execution_count": null,
   "id": "62099ade-1a6b-4a72-8bb5-d68f2902d405",
   "metadata": {},
   "outputs": [],
   "source": [
    "#Correlazioni definite da noi\n",
    "\n",
    "srrf_carota = srrf_ism_sum_2[:,441,334]\n",
    "srrf_carota_delta = srrf_carota - np.mean(srrf_carota)\n",
    "corr_carota=0\n",
    "\n",
    "for i in range(srrf_carota.shape[0]-1):\n",
    "    corr_carota += srrf_carota_delta[i]*srrf_carota_delta[i+1]\n",
    "corr_carota /= srrf_carota.shape[0]-1\n",
    "#corr_carota /= np.mean(srrf_carota)**2\n",
    "\n",
    "print(corr_carota)\n",
    "print(srrf_ism_2[441,334])"
   ]
  },
  {
   "cell_type": "code",
   "execution_count": null,
   "id": "3bfaee50-0a55-4ab4-a3b5-d7563bba2dee",
   "metadata": {},
   "outputs": [],
   "source": [
    "#Correlazioni con Scipy\n",
    "\n",
    "test2 = np.zeros((ttrace_ism_sum.shape[0],ttrace_ism_sum.shape[1],ttrace_ism_sum.shape[2]))\n",
    "\n",
    "for i in range(d3.shape[1]):\n",
    "    for j in range(d3.shape[2]):\n",
    "        m4 = np.mean(ttrace_ism_sum[i,j,:])\n",
    "        test2[i,j,:] = scipy.signal.correlate(ttrace_ism_sum[i,j,:]-m4,ttrace_ism_sum[i,j,:]-m4, method='auto', mode='same')\n",
    "        if m4==0: m4=1\n",
    "        test2[i,j,:] /= m4**2\n",
    "plt.imshow(test2[430:455, 320:345,:].sum(axis=2))\n",
    "plt.colorbar()"
   ]
  },
  {
   "cell_type": "code",
   "execution_count": null,
   "id": "321e0cf6-202e-414f-b3cb-f0963a799a9e",
   "metadata": {},
   "outputs": [],
   "source": [
    "plt.plot(test2[440,:,:].sum(axis=1))"
   ]
  },
  {
   "cell_type": "code",
   "execution_count": null,
   "id": "23842d50-b008-4848-991d-434670a5ccf4",
   "metadata": {},
   "outputs": [],
   "source": []
  }
 ],
 "metadata": {
  "kernelspec": {
   "display_name": "base",
   "language": "python",
   "name": "python3"
  },
  "language_info": {
   "codemirror_mode": {
    "name": "ipython",
    "version": 3
   },
   "file_extension": ".py",
   "mimetype": "text/x-python",
   "name": "python",
   "nbconvert_exporter": "python",
   "pygments_lexer": "ipython3",
   "version": "3.12.7"
  }
 },
 "nbformat": 4,
 "nbformat_minor": 5
}
